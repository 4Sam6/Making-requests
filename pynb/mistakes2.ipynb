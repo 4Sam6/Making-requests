{
 "cells": [
  {
   "cell_type": "code",
   "execution_count": 50,
   "id": "91bbab52-0861-4381-a694-67ea92febb6e",
   "metadata": {},
   "outputs": [
    {
     "data": {
      "text/html": [
       "<div>\n",
       "<style scoped>\n",
       "    .dataframe tbody tr th:only-of-type {\n",
       "        vertical-align: middle;\n",
       "    }\n",
       "\n",
       "    .dataframe tbody tr th {\n",
       "        vertical-align: top;\n",
       "    }\n",
       "\n",
       "    .dataframe thead th {\n",
       "        text-align: right;\n",
       "    }\n",
       "</style>\n",
       "<table border=\"1\" class=\"dataframe\">\n",
       "  <thead>\n",
       "    <tr style=\"text-align: right;\">\n",
       "      <th></th>\n",
       "      <th></th>\n",
       "      <th>Population, total</th>\n",
       "    </tr>\n",
       "    <tr>\n",
       "      <th>country</th>\n",
       "      <th>date</th>\n",
       "      <th></th>\n",
       "    </tr>\n",
       "  </thead>\n",
       "  <tbody>\n",
       "    <tr>\n",
       "      <th rowspan=\"5\" valign=\"top\">France</th>\n",
       "      <th>1975</th>\n",
       "      <td>54002853.0</td>\n",
       "    </tr>\n",
       "    <tr>\n",
       "      <th>1974</th>\n",
       "      <td>53746571.0</td>\n",
       "    </tr>\n",
       "    <tr>\n",
       "      <th>1973</th>\n",
       "      <td>53392161.0</td>\n",
       "    </tr>\n",
       "    <tr>\n",
       "      <th>1972</th>\n",
       "      <td>52962356.0</td>\n",
       "    </tr>\n",
       "    <tr>\n",
       "      <th>1971</th>\n",
       "      <td>52499553.0</td>\n",
       "    </tr>\n",
       "    <tr>\n",
       "      <th>...</th>\n",
       "      <th>...</th>\n",
       "      <td>...</td>\n",
       "    </tr>\n",
       "    <tr>\n",
       "      <th rowspan=\"5\" valign=\"top\">United States</th>\n",
       "      <th>1964</th>\n",
       "      <td>191889000.0</td>\n",
       "    </tr>\n",
       "    <tr>\n",
       "      <th>1963</th>\n",
       "      <td>189242000.0</td>\n",
       "    </tr>\n",
       "    <tr>\n",
       "      <th>1962</th>\n",
       "      <td>186538000.0</td>\n",
       "    </tr>\n",
       "    <tr>\n",
       "      <th>1961</th>\n",
       "      <td>183691000.0</td>\n",
       "    </tr>\n",
       "    <tr>\n",
       "      <th>1960</th>\n",
       "      <td>180671000.0</td>\n",
       "    </tr>\n",
       "  </tbody>\n",
       "</table>\n",
       "<p>80 rows × 1 columns</p>\n",
       "</div>"
      ],
      "text/plain": [
       "                    Population, total\n",
       "country       date                   \n",
       "France        1975         54002853.0\n",
       "              1974         53746571.0\n",
       "              1973         53392161.0\n",
       "              1972         52962356.0\n",
       "              1971         52499553.0\n",
       "...                               ...\n",
       "United States 1964        191889000.0\n",
       "              1963        189242000.0\n",
       "              1962        186538000.0\n",
       "              1961        183691000.0\n",
       "              1960        180671000.0\n",
       "\n",
       "[80 rows x 1 columns]"
      ]
     },
     "execution_count": 50,
     "metadata": {},
     "output_type": "execute_result"
    }
   ],
   "source": [
    "import wbdata\n",
    "import requests\n",
    "import pandas as pd\n",
    "from datetime import datetime\n",
    "\n",
    "# This will give you a variable that refers to the  indicator of total population of each country, \n",
    "# it is a wbdata.client.SearchResult, with this we can \n",
    "indicator = wbdata.get_indicators('SP.POP.TOTL')\n",
    "\n",
    "# Here the countries that I want to be included in my search have been listed, if I wanted to\n",
    "# use all of them I would just use \"all\"\n",
    "countries = [\"USA\", \"CHN\", \"FRA\"]\n",
    "\n",
    "# Here I am defining the time range that I want to be used.\n",
    "#start_date = datetime(2000, 1, 1)  # this numbers reflect ( year, month, day )\n",
    "#end_date = datetime(2023, 12, 31)\n",
    "\n",
    "# Fetch data from the World Bank API\n",
    "df = wbdata.get_dataframe({\"SP.POP.TOTL\" : \"Population, total\"}, country=[\"FRA\",\"USA\"], date = ( \"1960\", \"2025\") )\n",
    "\n",
    "\n",
    "\n",
    "\n",
    "\n"
   ]
  },
  {
   "cell_type": "code",
   "execution_count": 30,
   "id": "d1abd991-b660-4f04-b650-8e46787ae76a",
   "metadata": {},
   "outputs": [
    {
     "name": "stdout",
     "output_type": "stream",
     "text": [
      "id           name\n",
      "-----------  -----------------\n",
      "SP.POP.TOTL  Population, total\n"
     ]
    }
   ],
   "source": [
    "print(indicator)"
   ]
  },
  {
   "cell_type": "code",
   "execution_count": 41,
   "id": "420c0023-2194-4ebe-ae54-0ba9764c5781",
   "metadata": {},
   "outputs": [
    {
     "ename": "AttributeError",
     "evalue": "module 'wbdata' has no attribute 'get_source'",
     "output_type": "error",
     "traceback": [
      "\u001b[1;31m---------------------------------------------------------------------------\u001b[0m",
      "\u001b[1;31mAttributeError\u001b[0m                            Traceback (most recent call last)",
      "Cell \u001b[1;32mIn[41], line 9\u001b[0m\n\u001b[0;32m      7\u001b[0m \u001b[38;5;66;03m# Get available data sources to determine the earliest year\u001b[39;00m\n\u001b[0;32m      8\u001b[0m source_id \u001b[38;5;241m=\u001b[39m \u001b[38;5;241m2\u001b[39m  \u001b[38;5;66;03m# The World Bank's main data source (World Development Indicators)\u001b[39;00m\n\u001b[1;32m----> 9\u001b[0m sources \u001b[38;5;241m=\u001b[39m wbdata\u001b[38;5;241m.\u001b[39mget_source()\n\u001b[0;32m     10\u001b[0m earliest_year \u001b[38;5;241m=\u001b[39m \u001b[38;5;28mmin\u001b[39m(source[\u001b[38;5;124m\"\u001b[39m\u001b[38;5;124mdataavailability\u001b[39m\u001b[38;5;124m\"\u001b[39m][\u001b[38;5;124m\"\u001b[39m\u001b[38;5;124mstart\u001b[39m\u001b[38;5;124m\"\u001b[39m] \u001b[38;5;28;01mfor\u001b[39;00m source \u001b[38;5;129;01min\u001b[39;00m sources \u001b[38;5;28;01mif\u001b[39;00m source[\u001b[38;5;124m\"\u001b[39m\u001b[38;5;124mid\u001b[39m\u001b[38;5;124m\"\u001b[39m] \u001b[38;5;241m==\u001b[39m source_id)\n\u001b[0;32m     11\u001b[0m \u001b[38;5;28mprint\u001b[39m(earliest_year)\n",
      "\u001b[1;31mAttributeError\u001b[0m: module 'wbdata' has no attribute 'get_source'"
     ]
    }
   ],
   "source": [
    "import wbdata\n",
    "import datetime\n",
    "\n",
    "# Get current year\n",
    "current_year = datetime.datetime.now().year\n",
    "\n",
    "# Get available data sources to determine the earliest year\n",
    "source_id = 2  # The World Bank's main data source (World Development Indicators)\n",
    "sources = wbdata.get_source()\n",
    "earliest_year = min(source[\"dataavailability\"][\"start\"] for source in sources if source[\"id\"] == source_id)\n",
    "print(earliest_year)\n",
    "# Fetch data from the World Bank API with the dynamic date range\n",
    "#df = wbdata.get_dataframe({\"SP.POP.TOTL\": \"Population, total\"}, country=[\"FRA\", \"USA\"], date=(str(earliest_year), str(current_year)))"
   ]
  },
  {
   "cell_type": "code",
   "execution_count": 42,
   "id": "5fdf2c98-989c-4f1b-b3e6-40f3a17b6814",
   "metadata": {},
   "outputs": [
    {
     "ename": "AttributeError",
     "evalue": "'SearchResult' object has no attribute 'values'",
     "output_type": "error",
     "traceback": [
      "\u001b[1;31m---------------------------------------------------------------------------\u001b[0m",
      "\u001b[1;31mAttributeError\u001b[0m                            Traceback (most recent call last)",
      "Cell \u001b[1;32mIn[42], line 14\u001b[0m\n\u001b[0;32m     10\u001b[0m \u001b[38;5;66;03m# Extract the earliest available year for the chosen indicator\u001b[39;00m\n\u001b[0;32m     11\u001b[0m indicator_code \u001b[38;5;241m=\u001b[39m \u001b[38;5;124m\"\u001b[39m\u001b[38;5;124mSP.POP.TOTL\u001b[39m\u001b[38;5;124m\"\u001b[39m  \u001b[38;5;66;03m# Population, total\u001b[39;00m\n\u001b[0;32m     12\u001b[0m earliest_year \u001b[38;5;241m=\u001b[39m \u001b[38;5;28mmin\u001b[39m(\n\u001b[0;32m     13\u001b[0m     \u001b[38;5;28mint\u001b[39m(meta[\u001b[38;5;124m\"\u001b[39m\u001b[38;5;124mdataavailability\u001b[39m\u001b[38;5;124m\"\u001b[39m][\u001b[38;5;124m\"\u001b[39m\u001b[38;5;124mstart\u001b[39m\u001b[38;5;124m\"\u001b[39m])\n\u001b[1;32m---> 14\u001b[0m     \u001b[38;5;28;01mfor\u001b[39;00m meta \u001b[38;5;129;01min\u001b[39;00m indicator_metadata\u001b[38;5;241m.\u001b[39mvalues()\n\u001b[0;32m     15\u001b[0m     \u001b[38;5;28;01mif\u001b[39;00m \u001b[38;5;124m\"\u001b[39m\u001b[38;5;124mdataavailability\u001b[39m\u001b[38;5;124m\"\u001b[39m \u001b[38;5;129;01min\u001b[39;00m meta \u001b[38;5;129;01mand\u001b[39;00m \u001b[38;5;124m\"\u001b[39m\u001b[38;5;124mstart\u001b[39m\u001b[38;5;124m\"\u001b[39m \u001b[38;5;129;01min\u001b[39;00m meta[\u001b[38;5;124m\"\u001b[39m\u001b[38;5;124mdataavailability\u001b[39m\u001b[38;5;124m\"\u001b[39m]\n\u001b[0;32m     16\u001b[0m )\n\u001b[0;32m     17\u001b[0m \u001b[38;5;28mprint\u001b[39m(earliest_year)\n",
      "\u001b[1;31mAttributeError\u001b[0m: 'SearchResult' object has no attribute 'values'"
     ]
    }
   ],
   "source": [
    "import wbdata\n",
    "import datetime\n",
    "\n",
    "# Get current year dynamically\n",
    "current_year = datetime.datetime.now().year\n",
    "\n",
    "# Get metadata for the indicator to find the earliest available year\n",
    "indicator_metadata = wbdata.get_indicators(source=2)  # World Development Indicators source\n",
    "\n",
    "# Extract the earliest available year for the chosen indicator\n",
    "indicator_code = \"SP.POP.TOTL\"  # Population, total\n",
    "earliest_year = min(\n",
    "    int(meta[\"dataavailability\"][\"start\"])\n",
    "    for meta in indicator_metadata.values()\n",
    "    if \"dataavailability\" in meta and \"start\" in meta[\"dataavailability\"]\n",
    ")\n",
    "print(earliest_year)\n",
    "# Fetch data from the World Bank API\n",
    "#df = wbdata.get_dataframe({\"SP.POP.TOTL\": \"Population, total\"}, country=[\"FRA\", \"USA\"], date=(str(earliest_year), str(current_year)))\n"
   ]
  },
  {
   "cell_type": "code",
   "execution_count": 44,
   "id": "4c63b437-6aca-404a-bcb9-3b2b04a35d7e",
   "metadata": {},
   "outputs": [
    {
     "name": "stdout",
     "output_type": "stream",
     "text": [
      "France\n"
     ]
    }
   ],
   "source": [
    "import wbdata\n",
    "import datetime\n",
    "\n",
    "# Get the current year dynamically\n",
    "current_year = datetime.datetime.now().year\n",
    "\n",
    "# Define the indicator and countries\n",
    "indicator_code = \"SP.POP.TOTL\"  # Population, total\n",
    "countries = [\"FRA\", \"USA\"]  # France and USA\n",
    "\n",
    "# Fetch all available data (without specifying the start year initially)\n",
    "df = wbdata.get_dataframe({indicator_code: \"Population, total\"}, country=countries)\n",
    "\n",
    "# Find the earliest year in the dataset\n",
    "earliest_year = df.index.get_level_values(0).min()\n",
    "\n",
    "# Fetch data again using the determined earliest year\n",
    "#df = wbdata.get_dataframe({indicator_code: \"Population, total\"}, country=countries, date=(str(earliest_year), str(current_year)))\n",
    "\n",
    "# Display the DataFrame\n",
    "print(earliest_year)"
   ]
  },
  {
   "cell_type": "code",
   "execution_count": 45,
   "id": "4f17dcf3-1330-4c6c-88a7-9639b45a9429",
   "metadata": {},
   "outputs": [
    {
     "ename": "ValueError",
     "evalue": "invalid literal for int() with base 10: 'France'",
     "output_type": "error",
     "traceback": [
      "\u001b[1;31m---------------------------------------------------------------------------\u001b[0m",
      "\u001b[1;31mValueError\u001b[0m                                Traceback (most recent call last)",
      "Cell \u001b[1;32mIn[45], line 17\u001b[0m\n\u001b[0;32m     14\u001b[0m \u001b[38;5;66;03m# Ensure DataFrame is not empty before proceeding\u001b[39;00m\n\u001b[0;32m     15\u001b[0m \u001b[38;5;28;01mif\u001b[39;00m \u001b[38;5;129;01mnot\u001b[39;00m df\u001b[38;5;241m.\u001b[39mempty:\n\u001b[0;32m     16\u001b[0m     \u001b[38;5;66;03m# Extract the first level of the multi-index (year) and get the minimum year\u001b[39;00m\n\u001b[1;32m---> 17\u001b[0m     earliest_year \u001b[38;5;241m=\u001b[39m \u001b[38;5;28mint\u001b[39m(df\u001b[38;5;241m.\u001b[39mindex\u001b[38;5;241m.\u001b[39mget_level_values(\u001b[38;5;241m0\u001b[39m)\u001b[38;5;241m.\u001b[39mmin())\n\u001b[0;32m     18\u001b[0m     \u001b[38;5;28mprint\u001b[39m(\u001b[38;5;124mf\u001b[39m\u001b[38;5;124m\"\u001b[39m\u001b[38;5;124mEarliest available year: \u001b[39m\u001b[38;5;132;01m{\u001b[39;00mearliest_year\u001b[38;5;132;01m}\u001b[39;00m\u001b[38;5;124m\"\u001b[39m)\n\u001b[0;32m     19\u001b[0m \u001b[38;5;28;01melse\u001b[39;00m:\n",
      "\u001b[1;31mValueError\u001b[0m: invalid literal for int() with base 10: 'France'"
     ]
    }
   ],
   "source": [
    "import wbdata\n",
    "import datetime\n",
    "\n",
    "# Get the current year dynamically\n",
    "current_year = datetime.datetime.now().year\n",
    "\n",
    "# Define the indicator and countries\n",
    "indicator_code = \"SP.POP.TOTL\"  # Population, total\n",
    "countries = [\"FRA\", \"USA\"]  # France and USA\n",
    "\n",
    "# Fetch all available data (without specifying the start year initially)\n",
    "df = wbdata.get_dataframe({indicator_code: \"Population, total\"}, country=countries)\n",
    "\n",
    "# Ensure DataFrame is not empty before proceeding\n",
    "if not df.empty:\n",
    "    # Extract the first level of the multi-index (year) and get the minimum year\n",
    "    earliest_year = int(df.index.get_level_values(0).min())\n",
    "    print(f\"Earliest available year: {earliest_year}\")\n",
    "else:\n",
    "    print(\"No data available for the specified countries and indicator.\")"
   ]
  },
  {
   "cell_type": "code",
   "execution_count": null,
   "id": "0d2eb1bd-9f6b-4995-b73f-5f61191dec3b",
   "metadata": {},
   "outputs": [],
   "source": []
  }
 ],
 "metadata": {
  "kernelspec": {
   "display_name": "Python 3 (ipykernel)",
   "language": "python",
   "name": "python3"
  },
  "language_info": {
   "codemirror_mode": {
    "name": "ipython",
    "version": 3
   },
   "file_extension": ".py",
   "mimetype": "text/x-python",
   "name": "python",
   "nbconvert_exporter": "python",
   "pygments_lexer": "ipython3",
   "version": "3.11.5"
  }
 },
 "nbformat": 4,
 "nbformat_minor": 5
}
