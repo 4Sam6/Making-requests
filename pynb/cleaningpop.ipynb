{
 "cells": [
  {
   "cell_type": "code",
   "execution_count": 3,
   "id": "07b56424-5506-446f-bdec-f04ee744db95",
   "metadata": {},
   "outputs": [
    {
     "data": {
      "text/html": [
       "<div>\n",
       "<style scoped>\n",
       "    .dataframe tbody tr th:only-of-type {\n",
       "        vertical-align: middle;\n",
       "    }\n",
       "\n",
       "    .dataframe tbody tr th {\n",
       "        vertical-align: top;\n",
       "    }\n",
       "\n",
       "    .dataframe thead th {\n",
       "        text-align: right;\n",
       "    }\n",
       "</style>\n",
       "<table border=\"1\" class=\"dataframe\">\n",
       "  <thead>\n",
       "    <tr style=\"text-align: right;\">\n",
       "      <th></th>\n",
       "      <th></th>\n",
       "      <th>Population, total</th>\n",
       "    </tr>\n",
       "    <tr>\n",
       "      <th>country</th>\n",
       "      <th>date</th>\n",
       "      <th></th>\n",
       "    </tr>\n",
       "  </thead>\n",
       "  <tbody>\n",
       "    <tr>\n",
       "      <th rowspan=\"5\" valign=\"top\">France</th>\n",
       "      <th>2023</th>\n",
       "      <td>68287487.0</td>\n",
       "    </tr>\n",
       "    <tr>\n",
       "      <th>2022</th>\n",
       "      <td>68065015.0</td>\n",
       "    </tr>\n",
       "    <tr>\n",
       "      <th>2021</th>\n",
       "      <td>67842811.0</td>\n",
       "    </tr>\n",
       "    <tr>\n",
       "      <th>2020</th>\n",
       "      <td>67601110.0</td>\n",
       "    </tr>\n",
       "    <tr>\n",
       "      <th>2019</th>\n",
       "      <td>67382061.0</td>\n",
       "    </tr>\n",
       "  </tbody>\n",
       "</table>\n",
       "</div>"
      ],
      "text/plain": [
       "              Population, total\n",
       "country date                   \n",
       "France  2023         68287487.0\n",
       "        2022         68065015.0\n",
       "        2021         67842811.0\n",
       "        2020         67601110.0\n",
       "        2019         67382061.0"
      ]
     },
     "execution_count": 3,
     "metadata": {},
     "output_type": "execute_result"
    }
   ],
   "source": [
    "import wbdata\n",
    "import requests\n",
    "import pandas as pd\n",
    "from datetime import datetime\n",
    "\n",
    "# This will give you a variable that refers to the  indicator of total population of each country, \n",
    "# it is a wbdata.client.SearchResult, with this we can \n",
    "indicator = wbdata.get_indicators('SP.POP.TOTL')\n",
    "\n",
    "# Here the countries that I want to be included in my search have been listed, if I wanted to\n",
    "# use all of them I would just use \"all\"\n",
    "countries = [\"USA\", \"CHN\", \"FRA\"]\n",
    "\n",
    "# Here I am defining the time range that I want to be used.\n",
    "#start_date = datetime(2000, 1, 1)  # this numbers reflect ( year, month, day )\n",
    "#end_date = datetime(2023, 12, 31)\n",
    "\n",
    "# Fetch data from the World Bank API\n",
    "df = wbdata.get_dataframe({\"SP.POP.TOTL\" : \"Population, total\"}, country=[\"FRA\",\"USA\"], date = ( \"1960\", \"2025\") )\n",
    "df.head()"
   ]
  },
  {
   "cell_type": "code",
   "execution_count": 5,
   "id": "96d31a7b-76f8-4ce6-803d-cda7019e0869",
   "metadata": {},
   "outputs": [
    {
     "data": {
      "text/html": [
       "<div>\n",
       "<style scoped>\n",
       "    .dataframe tbody tr th:only-of-type {\n",
       "        vertical-align: middle;\n",
       "    }\n",
       "\n",
       "    .dataframe tbody tr th {\n",
       "        vertical-align: top;\n",
       "    }\n",
       "\n",
       "    .dataframe thead th {\n",
       "        text-align: right;\n",
       "    }\n",
       "</style>\n",
       "<table border=\"1\" class=\"dataframe\">\n",
       "  <thead>\n",
       "    <tr style=\"text-align: right;\">\n",
       "      <th></th>\n",
       "      <th>index</th>\n",
       "      <th>country</th>\n",
       "      <th>date</th>\n",
       "      <th>Population, total</th>\n",
       "    </tr>\n",
       "  </thead>\n",
       "  <tbody>\n",
       "    <tr>\n",
       "      <th>0</th>\n",
       "      <td>0</td>\n",
       "      <td>France</td>\n",
       "      <td>2023</td>\n",
       "      <td>68287487.0</td>\n",
       "    </tr>\n",
       "    <tr>\n",
       "      <th>1</th>\n",
       "      <td>1</td>\n",
       "      <td>France</td>\n",
       "      <td>2022</td>\n",
       "      <td>68065015.0</td>\n",
       "    </tr>\n",
       "    <tr>\n",
       "      <th>2</th>\n",
       "      <td>2</td>\n",
       "      <td>France</td>\n",
       "      <td>2021</td>\n",
       "      <td>67842811.0</td>\n",
       "    </tr>\n",
       "    <tr>\n",
       "      <th>3</th>\n",
       "      <td>3</td>\n",
       "      <td>France</td>\n",
       "      <td>2020</td>\n",
       "      <td>67601110.0</td>\n",
       "    </tr>\n",
       "    <tr>\n",
       "      <th>4</th>\n",
       "      <td>4</td>\n",
       "      <td>France</td>\n",
       "      <td>2019</td>\n",
       "      <td>67382061.0</td>\n",
       "    </tr>\n",
       "  </tbody>\n",
       "</table>\n",
       "</div>"
      ],
      "text/plain": [
       "   index country  date  Population, total\n",
       "0      0  France  2023         68287487.0\n",
       "1      1  France  2022         68065015.0\n",
       "2      2  France  2021         67842811.0\n",
       "3      3  France  2020         67601110.0\n",
       "4      4  France  2019         67382061.0"
      ]
     },
     "execution_count": 5,
     "metadata": {},
     "output_type": "execute_result"
    }
   ],
   "source": [
    "df = df.reset_index()\n",
    "df.head()"
   ]
  },
  {
   "cell_type": "code",
   "execution_count": 6,
   "id": "afede303-11f8-4fdd-bf13-3cf40177f35e",
   "metadata": {},
   "outputs": [
    {
     "data": {
      "text/html": [
       "<div>\n",
       "<style scoped>\n",
       "    .dataframe tbody tr th:only-of-type {\n",
       "        vertical-align: middle;\n",
       "    }\n",
       "\n",
       "    .dataframe tbody tr th {\n",
       "        vertical-align: top;\n",
       "    }\n",
       "\n",
       "    .dataframe thead th {\n",
       "        text-align: right;\n",
       "    }\n",
       "</style>\n",
       "<table border=\"1\" class=\"dataframe\">\n",
       "  <thead>\n",
       "    <tr style=\"text-align: right;\">\n",
       "      <th></th>\n",
       "      <th>index</th>\n",
       "      <th>Country</th>\n",
       "      <th>Year</th>\n",
       "      <th>Population</th>\n",
       "    </tr>\n",
       "  </thead>\n",
       "  <tbody>\n",
       "    <tr>\n",
       "      <th>0</th>\n",
       "      <td>0</td>\n",
       "      <td>France</td>\n",
       "      <td>2023</td>\n",
       "      <td>68287487.0</td>\n",
       "    </tr>\n",
       "    <tr>\n",
       "      <th>1</th>\n",
       "      <td>1</td>\n",
       "      <td>France</td>\n",
       "      <td>2022</td>\n",
       "      <td>68065015.0</td>\n",
       "    </tr>\n",
       "    <tr>\n",
       "      <th>2</th>\n",
       "      <td>2</td>\n",
       "      <td>France</td>\n",
       "      <td>2021</td>\n",
       "      <td>67842811.0</td>\n",
       "    </tr>\n",
       "    <tr>\n",
       "      <th>3</th>\n",
       "      <td>3</td>\n",
       "      <td>France</td>\n",
       "      <td>2020</td>\n",
       "      <td>67601110.0</td>\n",
       "    </tr>\n",
       "    <tr>\n",
       "      <th>4</th>\n",
       "      <td>4</td>\n",
       "      <td>France</td>\n",
       "      <td>2019</td>\n",
       "      <td>67382061.0</td>\n",
       "    </tr>\n",
       "  </tbody>\n",
       "</table>\n",
       "</div>"
      ],
      "text/plain": [
       "   index Country  Year  Population\n",
       "0      0  France  2023  68287487.0\n",
       "1      1  France  2022  68065015.0\n",
       "2      2  France  2021  67842811.0\n",
       "3      3  France  2020  67601110.0\n",
       "4      4  France  2019  67382061.0"
      ]
     },
     "execution_count": 6,
     "metadata": {},
     "output_type": "execute_result"
    }
   ],
   "source": [
    "df = df.reset_index()\n",
    "df = df.rename(columns={\"date\": \"Year\", \"country\": \"Country\", \"Population, total\": \"Population\"})\n",
    "df.head()\n"
   ]
  },
  {
   "cell_type": "code",
   "execution_count": 11,
   "id": "6e7acab7-3df8-4555-8ab4-074bab665b55",
   "metadata": {},
   "outputs": [
    {
     "data": {
      "text/plain": [
       "<bound method DataFrame.info of      index        Country  Year  Population\n",
       "0        0         France  2023    68287487\n",
       "1        1         France  2022    68065015\n",
       "2        2         France  2021    67842811\n",
       "3        3         France  2020    67601110\n",
       "4        4         France  2019    67382061\n",
       "..     ...            ...   ...         ...\n",
       "123    123  United States  1964   191889000\n",
       "124    124  United States  1963   189242000\n",
       "125    125  United States  1962   186538000\n",
       "126    126  United States  1961   183691000\n",
       "127    127  United States  1960   180671000\n",
       "\n",
       "[128 rows x 4 columns]>"
      ]
     },
     "execution_count": 11,
     "metadata": {},
     "output_type": "execute_result"
    }
   ],
   "source": [
    "df = df.reset_index()\n",
    "df = df.rename(columns={\"date\": \"Year\", \"country\": \"Country\", \"Population, total\": \"Population\"})\n",
    "df[\"Year\"] = df[\"Year\"].astype(int)\n",
    "df[\"Population\"] = pd.to_numeric(df[\"Population\"], errors=\"coerce\")\n",
    "df[\"Population\"] = df[\"Population\"].astype(int)\n",
    "df.info\n"
   ]
  },
  {
   "cell_type": "code",
   "execution_count": 10,
   "id": "d12d448f-06a8-4b60-8f5d-4f8fc748c0af",
   "metadata": {},
   "outputs": [
    {
     "data": {
      "text/plain": [
       "<bound method DataFrame.info of      index        Country  Year  Population\n",
       "0        0         France  2023    68287487\n",
       "1        1         France  2022    68065015\n",
       "2        2         France  2021    67842811\n",
       "3        3         France  2020    67601110\n",
       "4        4         France  2019    67382061\n",
       "..     ...            ...   ...         ...\n",
       "123    123  United States  1964   191889000\n",
       "124    124  United States  1963   189242000\n",
       "125    125  United States  1962   186538000\n",
       "126    126  United States  1961   183691000\n",
       "127    127  United States  1960   180671000\n",
       "\n",
       "[128 rows x 4 columns]>"
      ]
     },
     "execution_count": 10,
     "metadata": {},
     "output_type": "execute_result"
    }
   ],
   "source": [
    "df = df.reset_index()\n",
    "df = df.rename(columns={\"date\": \"Year\", \"country\": \"Country\", \"Population, total\": \"Population\"})\n",
    "df[\"Year\"] = df[\"Year\"].astype(int)\n",
    "df[\"Population\"] = pd.to_numeric(df[\"Population\"], errors=\"coerce\")\n",
    "df[\"Population\"] = df[\"Population\"].astype(int)\n",
    "df = df.dropna()\n",
    "df.info"
   ]
  },
  {
   "cell_type": "code",
   "execution_count": 12,
   "id": "fee895bf-7448-4a97-aade-83ca2ff99db5",
   "metadata": {},
   "outputs": [
    {
     "data": {
      "text/html": [
       "<div>\n",
       "<style scoped>\n",
       "    .dataframe tbody tr th:only-of-type {\n",
       "        vertical-align: middle;\n",
       "    }\n",
       "\n",
       "    .dataframe tbody tr th {\n",
       "        vertical-align: top;\n",
       "    }\n",
       "\n",
       "    .dataframe thead th {\n",
       "        text-align: right;\n",
       "    }\n",
       "</style>\n",
       "<table border=\"1\" class=\"dataframe\">\n",
       "  <thead>\n",
       "    <tr style=\"text-align: right;\">\n",
       "      <th></th>\n",
       "      <th>index</th>\n",
       "      <th>Country</th>\n",
       "      <th>Year</th>\n",
       "      <th>Population</th>\n",
       "    </tr>\n",
       "  </thead>\n",
       "  <tbody>\n",
       "    <tr>\n",
       "      <th>63</th>\n",
       "      <td>63</td>\n",
       "      <td>France</td>\n",
       "      <td>1960</td>\n",
       "      <td>47412964</td>\n",
       "    </tr>\n",
       "    <tr>\n",
       "      <th>62</th>\n",
       "      <td>62</td>\n",
       "      <td>France</td>\n",
       "      <td>1961</td>\n",
       "      <td>47905982</td>\n",
       "    </tr>\n",
       "    <tr>\n",
       "      <th>61</th>\n",
       "      <td>61</td>\n",
       "      <td>France</td>\n",
       "      <td>1962</td>\n",
       "      <td>48389516</td>\n",
       "    </tr>\n",
       "    <tr>\n",
       "      <th>60</th>\n",
       "      <td>60</td>\n",
       "      <td>France</td>\n",
       "      <td>1963</td>\n",
       "      <td>48877567</td>\n",
       "    </tr>\n",
       "    <tr>\n",
       "      <th>59</th>\n",
       "      <td>59</td>\n",
       "      <td>France</td>\n",
       "      <td>1964</td>\n",
       "      <td>49401492</td>\n",
       "    </tr>\n",
       "  </tbody>\n",
       "</table>\n",
       "</div>"
      ],
      "text/plain": [
       "    index Country  Year  Population\n",
       "63     63  France  1960    47412964\n",
       "62     62  France  1961    47905982\n",
       "61     61  France  1962    48389516\n",
       "60     60  France  1963    48877567\n",
       "59     59  France  1964    49401492"
      ]
     },
     "execution_count": 12,
     "metadata": {},
     "output_type": "execute_result"
    }
   ],
   "source": [
    "df = df.reset_index()\n",
    "df = df.rename(columns={\"date\": \"Year\", \"country\": \"Country\", \"Population, total\": \"Population\"})\n",
    "df[\"Year\"] = df[\"Year\"].astype(int)\n",
    "df[\"Population\"] = pd.to_numeric(df[\"Population\"], errors=\"coerce\")\n",
    "df[\"Population\"] = df[\"Population\"].astype(int)\n",
    "df = df.dropna()\n",
    "df = df.sort_values(by=[\"Country\", \"Year\"])\n",
    "df.head()"
   ]
  },
  {
   "cell_type": "code",
   "execution_count": 15,
   "id": "542df64f-64a6-4ce1-9f9d-62edbc4cec5c",
   "metadata": {},
   "outputs": [
    {
     "data": {
      "text/plain": [
       "Index(['Country', 'Year', 'Population'], dtype='object')"
      ]
     },
     "execution_count": 15,
     "metadata": {},
     "output_type": "execute_result"
    }
   ],
   "source": [
    "df.columns\n"
   ]
  },
  {
   "cell_type": "code",
   "execution_count": null,
   "id": "ccf88695-bec3-4fa4-941f-ab3708808fc1",
   "metadata": {},
   "outputs": [],
   "source": []
  }
 ],
 "metadata": {
  "kernelspec": {
   "display_name": "Python 3 (ipykernel)",
   "language": "python",
   "name": "python3"
  },
  "language_info": {
   "codemirror_mode": {
    "name": "ipython",
    "version": 3
   },
   "file_extension": ".py",
   "mimetype": "text/x-python",
   "name": "python",
   "nbconvert_exporter": "python",
   "pygments_lexer": "ipython3",
   "version": "3.11.5"
  }
 },
 "nbformat": 4,
 "nbformat_minor": 5
}
