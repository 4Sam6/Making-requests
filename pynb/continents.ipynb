{
 "cells": [
  {
   "cell_type": "code",
   "execution_count": 5,
   "id": "00b6067d-d47b-4e61-bf38-c4d06a833398",
   "metadata": {},
   "outputs": [
    {
     "data": {
      "text/html": [
       "<div>\n",
       "<style scoped>\n",
       "    .dataframe tbody tr th:only-of-type {\n",
       "        vertical-align: middle;\n",
       "    }\n",
       "\n",
       "    .dataframe tbody tr th {\n",
       "        vertical-align: top;\n",
       "    }\n",
       "\n",
       "    .dataframe thead th {\n",
       "        text-align: right;\n",
       "    }\n",
       "</style>\n",
       "<table border=\"1\" class=\"dataframe\">\n",
       "  <thead>\n",
       "    <tr style=\"text-align: right;\">\n",
       "      <th></th>\n",
       "      <th>Country</th>\n",
       "      <th>Years</th>\n",
       "      <th>Population</th>\n",
       "    </tr>\n",
       "  </thead>\n",
       "  <tbody>\n",
       "    <tr>\n",
       "      <th>324</th>\n",
       "      <td>United States</td>\n",
       "      <td>2019</td>\n",
       "      <td>328329953</td>\n",
       "    </tr>\n",
       "    <tr>\n",
       "      <th>323</th>\n",
       "      <td>United States</td>\n",
       "      <td>2020</td>\n",
       "      <td>331526933</td>\n",
       "    </tr>\n",
       "    <tr>\n",
       "      <th>322</th>\n",
       "      <td>United States</td>\n",
       "      <td>2021</td>\n",
       "      <td>332048977</td>\n",
       "    </tr>\n",
       "    <tr>\n",
       "      <th>321</th>\n",
       "      <td>United States</td>\n",
       "      <td>2022</td>\n",
       "      <td>333271411</td>\n",
       "    </tr>\n",
       "    <tr>\n",
       "      <th>320</th>\n",
       "      <td>United States</td>\n",
       "      <td>2023</td>\n",
       "      <td>334914895</td>\n",
       "    </tr>\n",
       "  </tbody>\n",
       "</table>\n",
       "</div>"
      ],
      "text/plain": [
       "           Country  Years  Population\n",
       "324  United States   2019   328329953\n",
       "323  United States   2020   331526933\n",
       "322  United States   2021   332048977\n",
       "321  United States   2022   333271411\n",
       "320  United States   2023   334914895"
      ]
     },
     "execution_count": 5,
     "metadata": {},
     "output_type": "execute_result"
    }
   ],
   "source": [
    "import matplotlib.pyplot as plt\n",
    "import matplotlib.animation as animation\n",
    "import wbdata\n",
    "import requests\n",
    "import pandas as pd\n",
    "from datetime import datetime\n",
    "\n",
    "# This will give you a variable that refers to the  indicator of total population of each country, \n",
    "# it is a wbdata.client.SearchResult, with this we can \n",
    "indicator = wbdata.get_indicators('SP.POP.TOTL')\n",
    "\n",
    "# Fetch data from the World Bank API\n",
    "df = wbdata.get_dataframe({\"SP.POP.TOTL\" : \"Population, total\"}, country=[\"NGA\",\"USA\",\"CHN\",\"DEU\", \"BRA\",\"AUS\", ], date = ( \"1960\", \"2025\") )\n",
    "\n",
    "# This is cleaning the data so it is ready to be used \n",
    "\n",
    "df = df.reset_index()\n",
    "df = df.rename(columns={\"date\": \"Years\", \"country\": \"Country\", \"Population, total\": \"Population\"})\n",
    "df[\"Years\"] = df[\"Years\"].astype(int)\n",
    "df[\"Population\"] = pd.to_numeric(df[\"Population\"], errors=\"coerce\")\n",
    "df[\"Population\"] = df[\"Population\"].astype(int)\n",
    "df = df.dropna()\n",
    "df = df.sort_values(by=[\"Country\", \"Years\"])\n",
    "df.h()"
   ]
  },
  {
   "cell_type": "code",
   "execution_count": null,
   "id": "8e66a4ba-16a2-44c9-88f6-a71f1aad8730",
   "metadata": {},
   "outputs": [],
   "source": []
  }
 ],
 "metadata": {
  "kernelspec": {
   "display_name": "Python 3 (ipykernel)",
   "language": "python",
   "name": "python3"
  },
  "language_info": {
   "codemirror_mode": {
    "name": "ipython",
    "version": 3
   },
   "file_extension": ".py",
   "mimetype": "text/x-python",
   "name": "python",
   "nbconvert_exporter": "python",
   "pygments_lexer": "ipython3",
   "version": "3.11.5"
  }
 },
 "nbformat": 4,
 "nbformat_minor": 5
}
