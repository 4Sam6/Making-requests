{
 "cells": [
  {
   "cell_type": "code",
   "execution_count": 17,
   "id": "9f198f22-a22d-4efb-9a40-fff10270d37e",
   "metadata": {},
   "outputs": [],
   "source": [
    "import matplotlib.pyplot as plt\n",
    "import matplotlib.animation as animation\n",
    "import wbdata\n",
    "import requests\n",
    "import pandas as pd\n",
    "from datetime import datetime\n",
    "import matplotlib.image as mpimg\n",
    "from matplotlib.offsetbox import OffsetImage, AnnotationBbox"
   ]
  },
  {
   "cell_type": "code",
   "execution_count": 18,
   "id": "c97849b2-9756-4013-b5b5-bc322960009f",
   "metadata": {},
   "outputs": [
    {
     "data": {
      "image/png": "[encoded data removed]",
      "text/plain": [
       "<Figure size 640x480 with 1 Axes>"
      ]
     },
     "metadata": {},
     "output_type": "display_data"
    }
   ],
   "source": [
    "# Load an image (replace 'your_image.png' with the actual path)\n",
    "image = mpimg.imread(\"Brazil.png\")\n",
    "\n",
    "# Sample data\n",
    "categories = [\"A\", \"B\", \"C\"]\n",
    "values = [5, 7, 3]\n",
    "\n",
    "fig, ax = plt.subplots()\n",
    "\n",
    "# Create bars\n",
    "bars = ax.bar(categories, values, color=\"skyblue\")\n",
    "\n",
    "# Add image to the second bar (\"B\")\n",
    "bar_index = 1  # Index of the bar where we want the image\n",
    "bar = bars[bar_index]\n",
    "bar_x = bar.get_x() + bar.get_width() / 2  # Center of the bar\n",
    "bar_height = bar.get_height()\n",
    "\n",
    "# Add image\n",
    "imagebox = ax.imshow(image, extent=[bar_x - 0.2, bar_x + 0.2, bar_height / 2, bar_height])\n",
    "ax.set_ylim(0, max(values) + 2)  # Adjust y-limit to ensure image fits\n",
    "\n",
    "plt.show()"
   ]
  },
  {
   "cell_type": "code",
   "execution_count": null,
   "id": "508def1b-1cbf-4b44-a29e-4403bbff941e",
   "metadata": {},
   "outputs": [],
   "source": []
  }
 ],
 "metadata": {
  "kernelspec": {
   "display_name": "Python 3 (ipykernel)",
   "language": "python",
   "name": "python3"
  },
  "language_info": {
   "codemirror_mode": {
    "name": "ipython",
    "version": 3
   },
   "file_extension": ".py",
   "mimetype": "text/x-python",
   "name": "python",
   "nbconvert_exporter": "python",
   "pygments_lexer": "ipython3",
   "version": "3.11.5"
  }
 },
 "nbformat": 4,
 "nbformat_minor": 5
}
